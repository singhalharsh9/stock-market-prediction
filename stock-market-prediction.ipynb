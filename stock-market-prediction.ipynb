{
 "cells": [
  {
   "cell_type": "code",
   "execution_count": 1,
   "metadata": {},
   "outputs": [],
   "source": [
    "import pandas as pd\n",
    "import numpy as np\n",
    "import matplotlib.pyplot as plt\n",
    "import seaborn as sns"
   ]
  },
  {
   "cell_type": "markdown",
   "metadata": {},
   "source": [
    "## LOADING DATA COLLECTED FROM NSE WEBSITE"
   ]
  },
  {
   "cell_type": "code",
   "execution_count": 2,
   "metadata": {},
   "outputs": [
    {
     "data": {
      "text/html": [
       "<div>\n",
       "<style scoped>\n",
       "    .dataframe tbody tr th:only-of-type {\n",
       "        vertical-align: middle;\n",
       "    }\n",
       "\n",
       "    .dataframe tbody tr th {\n",
       "        vertical-align: top;\n",
       "    }\n",
       "\n",
       "    .dataframe thead th {\n",
       "        text-align: right;\n",
       "    }\n",
       "</style>\n",
       "<table border=\"1\" class=\"dataframe\">\n",
       "  <thead>\n",
       "    <tr style=\"text-align: right;\">\n",
       "      <th></th>\n",
       "      <th>Date</th>\n",
       "      <th>Open</th>\n",
       "      <th>High</th>\n",
       "      <th>Low</th>\n",
       "      <th>Close</th>\n",
       "      <th>Shares Traded</th>\n",
       "      <th>Turnover (Rs. Cr)</th>\n",
       "    </tr>\n",
       "  </thead>\n",
       "  <tbody>\n",
       "    <tr>\n",
       "      <td>0</td>\n",
       "      <td>01-Jan-09</td>\n",
       "      <td>2963.30</td>\n",
       "      <td>3039.25</td>\n",
       "      <td>2963.30</td>\n",
       "      <td>3033.45</td>\n",
       "      <td>226681072</td>\n",
       "      <td>4302.54</td>\n",
       "    </tr>\n",
       "    <tr>\n",
       "      <td>1</td>\n",
       "      <td>02-Jan-09</td>\n",
       "      <td>3034.60</td>\n",
       "      <td>3079.85</td>\n",
       "      <td>3021.80</td>\n",
       "      <td>3046.75</td>\n",
       "      <td>318672508</td>\n",
       "      <td>6132.72</td>\n",
       "    </tr>\n",
       "    <tr>\n",
       "      <td>2</td>\n",
       "      <td>05-Jan-09</td>\n",
       "      <td>3058.75</td>\n",
       "      <td>3131.95</td>\n",
       "      <td>3056.45</td>\n",
       "      <td>3121.45</td>\n",
       "      <td>311929372</td>\n",
       "      <td>6737.94</td>\n",
       "    </tr>\n",
       "    <tr>\n",
       "      <td>3</td>\n",
       "      <td>06-Jan-09</td>\n",
       "      <td>3121.50</td>\n",
       "      <td>3141.80</td>\n",
       "      <td>3056.10</td>\n",
       "      <td>3112.80</td>\n",
       "      <td>340452916</td>\n",
       "      <td>8091.74</td>\n",
       "    </tr>\n",
       "    <tr>\n",
       "      <td>4</td>\n",
       "      <td>07-Jan-09</td>\n",
       "      <td>3112.80</td>\n",
       "      <td>3147.20</td>\n",
       "      <td>2888.20</td>\n",
       "      <td>2920.40</td>\n",
       "      <td>686898999</td>\n",
       "      <td>10865.55</td>\n",
       "    </tr>\n",
       "  </tbody>\n",
       "</table>\n",
       "</div>"
      ],
      "text/plain": [
       "        Date     Open     High      Low    Close  Shares Traded  \\\n",
       "0  01-Jan-09  2963.30  3039.25  2963.30  3033.45      226681072   \n",
       "1  02-Jan-09  3034.60  3079.85  3021.80  3046.75      318672508   \n",
       "2  05-Jan-09  3058.75  3131.95  3056.45  3121.45      311929372   \n",
       "3  06-Jan-09  3121.50  3141.80  3056.10  3112.80      340452916   \n",
       "4  07-Jan-09  3112.80  3147.20  2888.20  2920.40      686898999   \n",
       "\n",
       "   Turnover (Rs. Cr)  \n",
       "0            4302.54  \n",
       "1            6132.72  \n",
       "2            6737.94  \n",
       "3            8091.74  \n",
       "4           10865.55  "
      ]
     },
     "execution_count": 2,
     "metadata": {},
     "output_type": "execute_result"
    }
   ],
   "source": [
    "df = pd.read_csv('nseindex.csv')\n",
    "df.head()"
   ]
  },
  {
   "cell_type": "code",
   "execution_count": 3,
   "metadata": {},
   "outputs": [
    {
     "name": "stdout",
     "output_type": "stream",
     "text": [
      "<class 'pandas.core.frame.DataFrame'>\n",
      "RangeIndex: 3008 entries, 0 to 3007\n",
      "Data columns (total 7 columns):\n",
      "Date                 3008 non-null object\n",
      "Open                 3008 non-null float64\n",
      "High                 3008 non-null float64\n",
      "Low                  3008 non-null float64\n",
      "Close                3008 non-null float64\n",
      "Shares Traded        3008 non-null int64\n",
      "Turnover (Rs. Cr)    3008 non-null float64\n",
      "dtypes: float64(5), int64(1), object(1)\n",
      "memory usage: 164.6+ KB\n"
     ]
    }
   ],
   "source": [
    "df.info()"
   ]
  },
  {
   "cell_type": "code",
   "execution_count": 4,
   "metadata": {},
   "outputs": [
    {
     "data": {
      "text/html": [
       "<div>\n",
       "<style scoped>\n",
       "    .dataframe tbody tr th:only-of-type {\n",
       "        vertical-align: middle;\n",
       "    }\n",
       "\n",
       "    .dataframe tbody tr th {\n",
       "        vertical-align: top;\n",
       "    }\n",
       "\n",
       "    .dataframe thead th {\n",
       "        text-align: right;\n",
       "    }\n",
       "</style>\n",
       "<table border=\"1\" class=\"dataframe\">\n",
       "  <thead>\n",
       "    <tr style=\"text-align: right;\">\n",
       "      <th></th>\n",
       "      <th>Date</th>\n",
       "      <th>Open</th>\n",
       "      <th>High</th>\n",
       "      <th>Low</th>\n",
       "      <th>Close</th>\n",
       "      <th>Shares Traded</th>\n",
       "      <th>Turnover (Rs. Cr)</th>\n",
       "    </tr>\n",
       "  </thead>\n",
       "  <tbody>\n",
       "    <tr>\n",
       "      <td>0</td>\n",
       "      <td>2009-01-01</td>\n",
       "      <td>2963.30</td>\n",
       "      <td>3039.25</td>\n",
       "      <td>2963.30</td>\n",
       "      <td>3033.45</td>\n",
       "      <td>226681072</td>\n",
       "      <td>4302.54</td>\n",
       "    </tr>\n",
       "    <tr>\n",
       "      <td>1</td>\n",
       "      <td>2009-01-02</td>\n",
       "      <td>3034.60</td>\n",
       "      <td>3079.85</td>\n",
       "      <td>3021.80</td>\n",
       "      <td>3046.75</td>\n",
       "      <td>318672508</td>\n",
       "      <td>6132.72</td>\n",
       "    </tr>\n",
       "    <tr>\n",
       "      <td>2</td>\n",
       "      <td>2009-01-05</td>\n",
       "      <td>3058.75</td>\n",
       "      <td>3131.95</td>\n",
       "      <td>3056.45</td>\n",
       "      <td>3121.45</td>\n",
       "      <td>311929372</td>\n",
       "      <td>6737.94</td>\n",
       "    </tr>\n",
       "    <tr>\n",
       "      <td>3</td>\n",
       "      <td>2009-01-06</td>\n",
       "      <td>3121.50</td>\n",
       "      <td>3141.80</td>\n",
       "      <td>3056.10</td>\n",
       "      <td>3112.80</td>\n",
       "      <td>340452916</td>\n",
       "      <td>8091.74</td>\n",
       "    </tr>\n",
       "    <tr>\n",
       "      <td>4</td>\n",
       "      <td>2009-01-07</td>\n",
       "      <td>3112.80</td>\n",
       "      <td>3147.20</td>\n",
       "      <td>2888.20</td>\n",
       "      <td>2920.40</td>\n",
       "      <td>686898999</td>\n",
       "      <td>10865.55</td>\n",
       "    </tr>\n",
       "  </tbody>\n",
       "</table>\n",
       "</div>"
      ],
      "text/plain": [
       "        Date     Open     High      Low    Close  Shares Traded  \\\n",
       "0 2009-01-01  2963.30  3039.25  2963.30  3033.45      226681072   \n",
       "1 2009-01-02  3034.60  3079.85  3021.80  3046.75      318672508   \n",
       "2 2009-01-05  3058.75  3131.95  3056.45  3121.45      311929372   \n",
       "3 2009-01-06  3121.50  3141.80  3056.10  3112.80      340452916   \n",
       "4 2009-01-07  3112.80  3147.20  2888.20  2920.40      686898999   \n",
       "\n",
       "   Turnover (Rs. Cr)  \n",
       "0            4302.54  \n",
       "1            6132.72  \n",
       "2            6737.94  \n",
       "3            8091.74  \n",
       "4           10865.55  "
      ]
     },
     "execution_count": 4,
     "metadata": {},
     "output_type": "execute_result"
    }
   ],
   "source": [
    "df['Date']=pd.to_datetime(df['Date'])\n",
    "df.head()"
   ]
  },
  {
   "cell_type": "code",
   "execution_count": 5,
   "metadata": {},
   "outputs": [
    {
     "data": {
      "text/plain": [
       "(3008, 7)"
      ]
     },
     "execution_count": 5,
     "metadata": {},
     "output_type": "execute_result"
    }
   ],
   "source": [
    "df.shape"
   ]
  },
  {
   "cell_type": "code",
   "execution_count": 6,
   "metadata": {},
   "outputs": [
    {
     "data": {
      "text/html": [
       "<div>\n",
       "<style scoped>\n",
       "    .dataframe tbody tr th:only-of-type {\n",
       "        vertical-align: middle;\n",
       "    }\n",
       "\n",
       "    .dataframe tbody tr th {\n",
       "        vertical-align: top;\n",
       "    }\n",
       "\n",
       "    .dataframe thead th {\n",
       "        text-align: right;\n",
       "    }\n",
       "</style>\n",
       "<table border=\"1\" class=\"dataframe\">\n",
       "  <thead>\n",
       "    <tr style=\"text-align: right;\">\n",
       "      <th></th>\n",
       "      <th>Date</th>\n",
       "      <th>Open</th>\n",
       "      <th>High</th>\n",
       "      <th>Low</th>\n",
       "      <th>Close</th>\n",
       "      <th>Shares Traded</th>\n",
       "      <th>Turnover (Rs. Cr)</th>\n",
       "      <th>Year</th>\n",
       "    </tr>\n",
       "  </thead>\n",
       "  <tbody>\n",
       "    <tr>\n",
       "      <td>0</td>\n",
       "      <td>2009-01-01</td>\n",
       "      <td>2963.30</td>\n",
       "      <td>3039.25</td>\n",
       "      <td>2963.30</td>\n",
       "      <td>3033.45</td>\n",
       "      <td>226681072</td>\n",
       "      <td>4302.54</td>\n",
       "      <td>2009</td>\n",
       "    </tr>\n",
       "    <tr>\n",
       "      <td>1</td>\n",
       "      <td>2009-01-02</td>\n",
       "      <td>3034.60</td>\n",
       "      <td>3079.85</td>\n",
       "      <td>3021.80</td>\n",
       "      <td>3046.75</td>\n",
       "      <td>318672508</td>\n",
       "      <td>6132.72</td>\n",
       "      <td>2009</td>\n",
       "    </tr>\n",
       "    <tr>\n",
       "      <td>2</td>\n",
       "      <td>2009-01-05</td>\n",
       "      <td>3058.75</td>\n",
       "      <td>3131.95</td>\n",
       "      <td>3056.45</td>\n",
       "      <td>3121.45</td>\n",
       "      <td>311929372</td>\n",
       "      <td>6737.94</td>\n",
       "      <td>2009</td>\n",
       "    </tr>\n",
       "    <tr>\n",
       "      <td>3</td>\n",
       "      <td>2009-01-06</td>\n",
       "      <td>3121.50</td>\n",
       "      <td>3141.80</td>\n",
       "      <td>3056.10</td>\n",
       "      <td>3112.80</td>\n",
       "      <td>340452916</td>\n",
       "      <td>8091.74</td>\n",
       "      <td>2009</td>\n",
       "    </tr>\n",
       "    <tr>\n",
       "      <td>4</td>\n",
       "      <td>2009-01-07</td>\n",
       "      <td>3112.80</td>\n",
       "      <td>3147.20</td>\n",
       "      <td>2888.20</td>\n",
       "      <td>2920.40</td>\n",
       "      <td>686898999</td>\n",
       "      <td>10865.55</td>\n",
       "      <td>2009</td>\n",
       "    </tr>\n",
       "    <tr>\n",
       "      <td>...</td>\n",
       "      <td>...</td>\n",
       "      <td>...</td>\n",
       "      <td>...</td>\n",
       "      <td>...</td>\n",
       "      <td>...</td>\n",
       "      <td>...</td>\n",
       "      <td>...</td>\n",
       "      <td>...</td>\n",
       "    </tr>\n",
       "    <tr>\n",
       "      <td>2466</td>\n",
       "      <td>2018-12-21</td>\n",
       "      <td>10944.25</td>\n",
       "      <td>10963.65</td>\n",
       "      <td>10738.65</td>\n",
       "      <td>10754.00</td>\n",
       "      <td>389235107</td>\n",
       "      <td>18663.85</td>\n",
       "      <td>2018</td>\n",
       "    </tr>\n",
       "    <tr>\n",
       "      <td>2467</td>\n",
       "      <td>2018-12-24</td>\n",
       "      <td>10780.90</td>\n",
       "      <td>10782.30</td>\n",
       "      <td>10649.25</td>\n",
       "      <td>10663.50</td>\n",
       "      <td>230291344</td>\n",
       "      <td>10695.60</td>\n",
       "      <td>2018</td>\n",
       "    </tr>\n",
       "    <tr>\n",
       "      <td>2468</td>\n",
       "      <td>2018-12-26</td>\n",
       "      <td>10635.45</td>\n",
       "      <td>10747.50</td>\n",
       "      <td>10534.55</td>\n",
       "      <td>10729.85</td>\n",
       "      <td>271942701</td>\n",
       "      <td>12831.99</td>\n",
       "      <td>2018</td>\n",
       "    </tr>\n",
       "    <tr>\n",
       "      <td>2469</td>\n",
       "      <td>2018-12-27</td>\n",
       "      <td>10817.90</td>\n",
       "      <td>10834.20</td>\n",
       "      <td>10764.45</td>\n",
       "      <td>10779.80</td>\n",
       "      <td>470160392</td>\n",
       "      <td>19119.88</td>\n",
       "      <td>2018</td>\n",
       "    </tr>\n",
       "    <tr>\n",
       "      <td>2470</td>\n",
       "      <td>2018-12-28</td>\n",
       "      <td>10820.95</td>\n",
       "      <td>10893.60</td>\n",
       "      <td>10817.15</td>\n",
       "      <td>10859.90</td>\n",
       "      <td>253086507</td>\n",
       "      <td>12615.01</td>\n",
       "      <td>2018</td>\n",
       "    </tr>\n",
       "  </tbody>\n",
       "</table>\n",
       "<p>2471 rows × 8 columns</p>\n",
       "</div>"
      ],
      "text/plain": [
       "           Date      Open      High       Low     Close  Shares Traded  \\\n",
       "0    2009-01-01   2963.30   3039.25   2963.30   3033.45      226681072   \n",
       "1    2009-01-02   3034.60   3079.85   3021.80   3046.75      318672508   \n",
       "2    2009-01-05   3058.75   3131.95   3056.45   3121.45      311929372   \n",
       "3    2009-01-06   3121.50   3141.80   3056.10   3112.80      340452916   \n",
       "4    2009-01-07   3112.80   3147.20   2888.20   2920.40      686898999   \n",
       "...         ...       ...       ...       ...       ...            ...   \n",
       "2466 2018-12-21  10944.25  10963.65  10738.65  10754.00      389235107   \n",
       "2467 2018-12-24  10780.90  10782.30  10649.25  10663.50      230291344   \n",
       "2468 2018-12-26  10635.45  10747.50  10534.55  10729.85      271942701   \n",
       "2469 2018-12-27  10817.90  10834.20  10764.45  10779.80      470160392   \n",
       "2470 2018-12-28  10820.95  10893.60  10817.15  10859.90      253086507   \n",
       "\n",
       "      Turnover (Rs. Cr)  Year  \n",
       "0               4302.54  2009  \n",
       "1               6132.72  2009  \n",
       "2               6737.94  2009  \n",
       "3               8091.74  2009  \n",
       "4              10865.55  2009  \n",
       "...                 ...   ...  \n",
       "2466           18663.85  2018  \n",
       "2467           10695.60  2018  \n",
       "2468           12831.99  2018  \n",
       "2469           19119.88  2018  \n",
       "2470           12615.01  2018  \n",
       "\n",
       "[2471 rows x 8 columns]"
      ]
     },
     "execution_count": 6,
     "metadata": {},
     "output_type": "execute_result"
    }
   ],
   "source": [
    "df['Year'] = df['Date'].apply(lambda x:x.year)\n",
    "final_df = df[df['Year'] < 2019]\n",
    "final_df"
   ]
  },
  {
   "cell_type": "code",
   "execution_count": 7,
   "metadata": {},
   "outputs": [
    {
     "data": {
      "text/plain": [
       "Date                 0\n",
       "Open                 0\n",
       "High                 0\n",
       "Low                  0\n",
       "Close                0\n",
       "Shares Traded        0\n",
       "Turnover (Rs. Cr)    0\n",
       "Year                 0\n",
       "dtype: int64"
      ]
     },
     "execution_count": 7,
     "metadata": {},
     "output_type": "execute_result"
    }
   ],
   "source": [
    "final_df.isnull().sum()"
   ]
  },
  {
   "cell_type": "markdown",
   "metadata": {},
   "source": [
    "The above data is ready to use as it contains no null values and this data is splitted in 2 parts for training and testing purpose."
   ]
  },
  {
   "cell_type": "code",
   "execution_count": 8,
   "metadata": {},
   "outputs": [],
   "source": [
    "train_df = final_df[final_df.Year<2018]\n",
    "test_df = final_df[final_df.Year>2017]"
   ]
  },
  {
   "cell_type": "markdown",
   "metadata": {},
   "source": [
    "### TEST DATA (2018-2019)"
   ]
  },
  {
   "cell_type": "code",
   "execution_count": 9,
   "metadata": {},
   "outputs": [
    {
     "data": {
      "text/html": [
       "<div>\n",
       "<style scoped>\n",
       "    .dataframe tbody tr th:only-of-type {\n",
       "        vertical-align: middle;\n",
       "    }\n",
       "\n",
       "    .dataframe tbody tr th {\n",
       "        vertical-align: top;\n",
       "    }\n",
       "\n",
       "    .dataframe thead th {\n",
       "        text-align: right;\n",
       "    }\n",
       "</style>\n",
       "<table border=\"1\" class=\"dataframe\">\n",
       "  <thead>\n",
       "    <tr style=\"text-align: right;\">\n",
       "      <th></th>\n",
       "      <th>Date</th>\n",
       "      <th>Open</th>\n",
       "      <th>High</th>\n",
       "      <th>Low</th>\n",
       "      <th>Close</th>\n",
       "      <th>Shares Traded</th>\n",
       "      <th>Turnover (Rs. Cr)</th>\n",
       "      <th>Year</th>\n",
       "    </tr>\n",
       "  </thead>\n",
       "  <tbody>\n",
       "    <tr>\n",
       "      <td>2226</td>\n",
       "      <td>2018-01-01</td>\n",
       "      <td>10531.70</td>\n",
       "      <td>10537.85</td>\n",
       "      <td>10423.10</td>\n",
       "      <td>10435.55</td>\n",
       "      <td>134532090</td>\n",
       "      <td>7546.56</td>\n",
       "      <td>2018</td>\n",
       "    </tr>\n",
       "    <tr>\n",
       "      <td>2227</td>\n",
       "      <td>2018-01-02</td>\n",
       "      <td>10477.55</td>\n",
       "      <td>10495.20</td>\n",
       "      <td>10404.65</td>\n",
       "      <td>10442.20</td>\n",
       "      <td>158092430</td>\n",
       "      <td>8665.47</td>\n",
       "      <td>2018</td>\n",
       "    </tr>\n",
       "    <tr>\n",
       "      <td>2228</td>\n",
       "      <td>2018-01-03</td>\n",
       "      <td>10482.65</td>\n",
       "      <td>10503.60</td>\n",
       "      <td>10429.55</td>\n",
       "      <td>10443.20</td>\n",
       "      <td>172516859</td>\n",
       "      <td>9541.60</td>\n",
       "      <td>2018</td>\n",
       "    </tr>\n",
       "    <tr>\n",
       "      <td>2229</td>\n",
       "      <td>2018-01-04</td>\n",
       "      <td>10469.40</td>\n",
       "      <td>10513.00</td>\n",
       "      <td>10441.45</td>\n",
       "      <td>10504.80</td>\n",
       "      <td>180257392</td>\n",
       "      <td>9561.95</td>\n",
       "      <td>2018</td>\n",
       "    </tr>\n",
       "    <tr>\n",
       "      <td>2230</td>\n",
       "      <td>2018-01-05</td>\n",
       "      <td>10534.25</td>\n",
       "      <td>10566.10</td>\n",
       "      <td>10520.10</td>\n",
       "      <td>10558.85</td>\n",
       "      <td>186469717</td>\n",
       "      <td>10306.22</td>\n",
       "      <td>2018</td>\n",
       "    </tr>\n",
       "    <tr>\n",
       "      <td>...</td>\n",
       "      <td>...</td>\n",
       "      <td>...</td>\n",
       "      <td>...</td>\n",
       "      <td>...</td>\n",
       "      <td>...</td>\n",
       "      <td>...</td>\n",
       "      <td>...</td>\n",
       "      <td>...</td>\n",
       "    </tr>\n",
       "    <tr>\n",
       "      <td>2466</td>\n",
       "      <td>2018-12-21</td>\n",
       "      <td>10944.25</td>\n",
       "      <td>10963.65</td>\n",
       "      <td>10738.65</td>\n",
       "      <td>10754.00</td>\n",
       "      <td>389235107</td>\n",
       "      <td>18663.85</td>\n",
       "      <td>2018</td>\n",
       "    </tr>\n",
       "    <tr>\n",
       "      <td>2467</td>\n",
       "      <td>2018-12-24</td>\n",
       "      <td>10780.90</td>\n",
       "      <td>10782.30</td>\n",
       "      <td>10649.25</td>\n",
       "      <td>10663.50</td>\n",
       "      <td>230291344</td>\n",
       "      <td>10695.60</td>\n",
       "      <td>2018</td>\n",
       "    </tr>\n",
       "    <tr>\n",
       "      <td>2468</td>\n",
       "      <td>2018-12-26</td>\n",
       "      <td>10635.45</td>\n",
       "      <td>10747.50</td>\n",
       "      <td>10534.55</td>\n",
       "      <td>10729.85</td>\n",
       "      <td>271942701</td>\n",
       "      <td>12831.99</td>\n",
       "      <td>2018</td>\n",
       "    </tr>\n",
       "    <tr>\n",
       "      <td>2469</td>\n",
       "      <td>2018-12-27</td>\n",
       "      <td>10817.90</td>\n",
       "      <td>10834.20</td>\n",
       "      <td>10764.45</td>\n",
       "      <td>10779.80</td>\n",
       "      <td>470160392</td>\n",
       "      <td>19119.88</td>\n",
       "      <td>2018</td>\n",
       "    </tr>\n",
       "    <tr>\n",
       "      <td>2470</td>\n",
       "      <td>2018-12-28</td>\n",
       "      <td>10820.95</td>\n",
       "      <td>10893.60</td>\n",
       "      <td>10817.15</td>\n",
       "      <td>10859.90</td>\n",
       "      <td>253086507</td>\n",
       "      <td>12615.01</td>\n",
       "      <td>2018</td>\n",
       "    </tr>\n",
       "  </tbody>\n",
       "</table>\n",
       "<p>245 rows × 8 columns</p>\n",
       "</div>"
      ],
      "text/plain": [
       "           Date      Open      High       Low     Close  Shares Traded  \\\n",
       "2226 2018-01-01  10531.70  10537.85  10423.10  10435.55      134532090   \n",
       "2227 2018-01-02  10477.55  10495.20  10404.65  10442.20      158092430   \n",
       "2228 2018-01-03  10482.65  10503.60  10429.55  10443.20      172516859   \n",
       "2229 2018-01-04  10469.40  10513.00  10441.45  10504.80      180257392   \n",
       "2230 2018-01-05  10534.25  10566.10  10520.10  10558.85      186469717   \n",
       "...         ...       ...       ...       ...       ...            ...   \n",
       "2466 2018-12-21  10944.25  10963.65  10738.65  10754.00      389235107   \n",
       "2467 2018-12-24  10780.90  10782.30  10649.25  10663.50      230291344   \n",
       "2468 2018-12-26  10635.45  10747.50  10534.55  10729.85      271942701   \n",
       "2469 2018-12-27  10817.90  10834.20  10764.45  10779.80      470160392   \n",
       "2470 2018-12-28  10820.95  10893.60  10817.15  10859.90      253086507   \n",
       "\n",
       "      Turnover (Rs. Cr)  Year  \n",
       "2226            7546.56  2018  \n",
       "2227            8665.47  2018  \n",
       "2228            9541.60  2018  \n",
       "2229            9561.95  2018  \n",
       "2230           10306.22  2018  \n",
       "...                 ...   ...  \n",
       "2466           18663.85  2018  \n",
       "2467           10695.60  2018  \n",
       "2468           12831.99  2018  \n",
       "2469           19119.88  2018  \n",
       "2470           12615.01  2018  \n",
       "\n",
       "[245 rows x 8 columns]"
      ]
     },
     "execution_count": 9,
     "metadata": {},
     "output_type": "execute_result"
    }
   ],
   "source": [
    "test_df"
   ]
  },
  {
   "cell_type": "markdown",
   "metadata": {},
   "source": [
    "### TRAIN DATA (2009-2017)"
   ]
  },
  {
   "cell_type": "code",
   "execution_count": 10,
   "metadata": {},
   "outputs": [
    {
     "data": {
      "text/html": [
       "<div>\n",
       "<style scoped>\n",
       "    .dataframe tbody tr th:only-of-type {\n",
       "        vertical-align: middle;\n",
       "    }\n",
       "\n",
       "    .dataframe tbody tr th {\n",
       "        vertical-align: top;\n",
       "    }\n",
       "\n",
       "    .dataframe thead th {\n",
       "        text-align: right;\n",
       "    }\n",
       "</style>\n",
       "<table border=\"1\" class=\"dataframe\">\n",
       "  <thead>\n",
       "    <tr style=\"text-align: right;\">\n",
       "      <th></th>\n",
       "      <th>Date</th>\n",
       "      <th>Open</th>\n",
       "      <th>High</th>\n",
       "      <th>Low</th>\n",
       "      <th>Close</th>\n",
       "      <th>Shares Traded</th>\n",
       "      <th>Turnover (Rs. Cr)</th>\n",
       "      <th>Year</th>\n",
       "    </tr>\n",
       "  </thead>\n",
       "  <tbody>\n",
       "    <tr>\n",
       "      <td>0</td>\n",
       "      <td>2009-01-01</td>\n",
       "      <td>2963.30</td>\n",
       "      <td>3039.25</td>\n",
       "      <td>2963.30</td>\n",
       "      <td>3033.45</td>\n",
       "      <td>226681072</td>\n",
       "      <td>4302.54</td>\n",
       "      <td>2009</td>\n",
       "    </tr>\n",
       "    <tr>\n",
       "      <td>1</td>\n",
       "      <td>2009-01-02</td>\n",
       "      <td>3034.60</td>\n",
       "      <td>3079.85</td>\n",
       "      <td>3021.80</td>\n",
       "      <td>3046.75</td>\n",
       "      <td>318672508</td>\n",
       "      <td>6132.72</td>\n",
       "      <td>2009</td>\n",
       "    </tr>\n",
       "    <tr>\n",
       "      <td>2</td>\n",
       "      <td>2009-01-05</td>\n",
       "      <td>3058.75</td>\n",
       "      <td>3131.95</td>\n",
       "      <td>3056.45</td>\n",
       "      <td>3121.45</td>\n",
       "      <td>311929372</td>\n",
       "      <td>6737.94</td>\n",
       "      <td>2009</td>\n",
       "    </tr>\n",
       "    <tr>\n",
       "      <td>3</td>\n",
       "      <td>2009-01-06</td>\n",
       "      <td>3121.50</td>\n",
       "      <td>3141.80</td>\n",
       "      <td>3056.10</td>\n",
       "      <td>3112.80</td>\n",
       "      <td>340452916</td>\n",
       "      <td>8091.74</td>\n",
       "      <td>2009</td>\n",
       "    </tr>\n",
       "    <tr>\n",
       "      <td>4</td>\n",
       "      <td>2009-01-07</td>\n",
       "      <td>3112.80</td>\n",
       "      <td>3147.20</td>\n",
       "      <td>2888.20</td>\n",
       "      <td>2920.40</td>\n",
       "      <td>686898999</td>\n",
       "      <td>10865.55</td>\n",
       "      <td>2009</td>\n",
       "    </tr>\n",
       "    <tr>\n",
       "      <td>...</td>\n",
       "      <td>...</td>\n",
       "      <td>...</td>\n",
       "      <td>...</td>\n",
       "      <td>...</td>\n",
       "      <td>...</td>\n",
       "      <td>...</td>\n",
       "      <td>...</td>\n",
       "      <td>...</td>\n",
       "    </tr>\n",
       "    <tr>\n",
       "      <td>2221</td>\n",
       "      <td>2017-12-22</td>\n",
       "      <td>10457.30</td>\n",
       "      <td>10501.10</td>\n",
       "      <td>10448.25</td>\n",
       "      <td>10493.00</td>\n",
       "      <td>143119167</td>\n",
       "      <td>8755.32</td>\n",
       "      <td>2017</td>\n",
       "    </tr>\n",
       "    <tr>\n",
       "      <td>2222</td>\n",
       "      <td>2017-12-26</td>\n",
       "      <td>10512.30</td>\n",
       "      <td>10545.45</td>\n",
       "      <td>10477.95</td>\n",
       "      <td>10531.50</td>\n",
       "      <td>160417384</td>\n",
       "      <td>9043.77</td>\n",
       "      <td>2017</td>\n",
       "    </tr>\n",
       "    <tr>\n",
       "      <td>2223</td>\n",
       "      <td>2017-12-27</td>\n",
       "      <td>10531.05</td>\n",
       "      <td>10552.40</td>\n",
       "      <td>10469.25</td>\n",
       "      <td>10490.75</td>\n",
       "      <td>170307122</td>\n",
       "      <td>9077.60</td>\n",
       "      <td>2017</td>\n",
       "    </tr>\n",
       "    <tr>\n",
       "      <td>2224</td>\n",
       "      <td>2017-12-28</td>\n",
       "      <td>10498.20</td>\n",
       "      <td>10534.55</td>\n",
       "      <td>10460.45</td>\n",
       "      <td>10477.90</td>\n",
       "      <td>281309989</td>\n",
       "      <td>14551.58</td>\n",
       "      <td>2017</td>\n",
       "    </tr>\n",
       "    <tr>\n",
       "      <td>2225</td>\n",
       "      <td>2017-12-29</td>\n",
       "      <td>10492.35</td>\n",
       "      <td>10538.70</td>\n",
       "      <td>10488.65</td>\n",
       "      <td>10530.70</td>\n",
       "      <td>156736221</td>\n",
       "      <td>8943.10</td>\n",
       "      <td>2017</td>\n",
       "    </tr>\n",
       "  </tbody>\n",
       "</table>\n",
       "<p>2226 rows × 8 columns</p>\n",
       "</div>"
      ],
      "text/plain": [
       "           Date      Open      High       Low     Close  Shares Traded  \\\n",
       "0    2009-01-01   2963.30   3039.25   2963.30   3033.45      226681072   \n",
       "1    2009-01-02   3034.60   3079.85   3021.80   3046.75      318672508   \n",
       "2    2009-01-05   3058.75   3131.95   3056.45   3121.45      311929372   \n",
       "3    2009-01-06   3121.50   3141.80   3056.10   3112.80      340452916   \n",
       "4    2009-01-07   3112.80   3147.20   2888.20   2920.40      686898999   \n",
       "...         ...       ...       ...       ...       ...            ...   \n",
       "2221 2017-12-22  10457.30  10501.10  10448.25  10493.00      143119167   \n",
       "2222 2017-12-26  10512.30  10545.45  10477.95  10531.50      160417384   \n",
       "2223 2017-12-27  10531.05  10552.40  10469.25  10490.75      170307122   \n",
       "2224 2017-12-28  10498.20  10534.55  10460.45  10477.90      281309989   \n",
       "2225 2017-12-29  10492.35  10538.70  10488.65  10530.70      156736221   \n",
       "\n",
       "      Turnover (Rs. Cr)  Year  \n",
       "0               4302.54  2009  \n",
       "1               6132.72  2009  \n",
       "2               6737.94  2009  \n",
       "3               8091.74  2009  \n",
       "4              10865.55  2009  \n",
       "...                 ...   ...  \n",
       "2221            8755.32  2017  \n",
       "2222            9043.77  2017  \n",
       "2223            9077.60  2017  \n",
       "2224           14551.58  2017  \n",
       "2225            8943.10  2017  \n",
       "\n",
       "[2226 rows x 8 columns]"
      ]
     },
     "execution_count": 10,
     "metadata": {},
     "output_type": "execute_result"
    }
   ],
   "source": [
    "train_df"
   ]
  },
  {
   "cell_type": "markdown",
   "metadata": {},
   "source": [
    "## Plotting the train data"
   ]
  },
  {
   "cell_type": "code",
   "execution_count": 11,
   "metadata": {},
   "outputs": [
    {
     "name": "stderr",
     "output_type": "stream",
     "text": [
      "C:\\Users\\hp\\Anaconda3\\lib\\site-packages\\pandas\\plotting\\_matplotlib\\converter.py:103: FutureWarning: Using an implicitly registered datetime converter for a matplotlib plotting method. The converter was registered by pandas on import. Future versions of pandas will require you to explicitly register matplotlib converters.\n",
      "\n",
      "To register the converters:\n",
      "\t>>> from pandas.plotting import register_matplotlib_converters\n",
      "\t>>> register_matplotlib_converters()\n",
      "  warnings.warn(msg, FutureWarning)\n"
     ]
    },
    {
     "data": {
      "text/plain": [
       "[<matplotlib.lines.Line2D at 0x1dff18867c8>]"
      ]
     },
     "execution_count": 11,
     "metadata": {},
     "output_type": "execute_result"
    },
    {
     "data": {
      "image/png": "[encoded data removed]",
      "text/plain": [
       "<Figure size 432x288 with 1 Axes>"
      ]
     },
     "metadata": {
      "needs_background": "light"
     },
     "output_type": "display_data"
    }
   ],
   "source": [
    "plt.plot(train_df['Date'],train_df['Close'])"
   ]
  },
  {
   "cell_type": "markdown",
   "metadata": {},
   "source": [
    "#### According to the stock market the price generally increases in the long term , thats what our visualization shows. Hence linear model would fit perfectly with our data."
   ]
  },
  {
   "cell_type": "markdown",
   "metadata": {},
   "source": [
    "KEEPING ONY FEATURES THAT ARE USED IN TRAINING THE MODEL (OPEN ,HIGH,LOW AND VOLUME)"
   ]
  },
  {
   "cell_type": "code",
   "execution_count": 12,
   "metadata": {},
   "outputs": [
    {
     "data": {
      "text/html": [
       "<div>\n",
       "<style scoped>\n",
       "    .dataframe tbody tr th:only-of-type {\n",
       "        vertical-align: middle;\n",
       "    }\n",
       "\n",
       "    .dataframe tbody tr th {\n",
       "        vertical-align: top;\n",
       "    }\n",
       "\n",
       "    .dataframe thead th {\n",
       "        text-align: right;\n",
       "    }\n",
       "</style>\n",
       "<table border=\"1\" class=\"dataframe\">\n",
       "  <thead>\n",
       "    <tr style=\"text-align: right;\">\n",
       "      <th></th>\n",
       "      <th>Open</th>\n",
       "      <th>High</th>\n",
       "      <th>Low</th>\n",
       "      <th>Shares Traded</th>\n",
       "    </tr>\n",
       "  </thead>\n",
       "  <tbody>\n",
       "    <tr>\n",
       "      <td>0</td>\n",
       "      <td>2963.30</td>\n",
       "      <td>3039.25</td>\n",
       "      <td>2963.30</td>\n",
       "      <td>226681072</td>\n",
       "    </tr>\n",
       "    <tr>\n",
       "      <td>1</td>\n",
       "      <td>3034.60</td>\n",
       "      <td>3079.85</td>\n",
       "      <td>3021.80</td>\n",
       "      <td>318672508</td>\n",
       "    </tr>\n",
       "    <tr>\n",
       "      <td>2</td>\n",
       "      <td>3058.75</td>\n",
       "      <td>3131.95</td>\n",
       "      <td>3056.45</td>\n",
       "      <td>311929372</td>\n",
       "    </tr>\n",
       "    <tr>\n",
       "      <td>3</td>\n",
       "      <td>3121.50</td>\n",
       "      <td>3141.80</td>\n",
       "      <td>3056.10</td>\n",
       "      <td>340452916</td>\n",
       "    </tr>\n",
       "    <tr>\n",
       "      <td>4</td>\n",
       "      <td>3112.80</td>\n",
       "      <td>3147.20</td>\n",
       "      <td>2888.20</td>\n",
       "      <td>686898999</td>\n",
       "    </tr>\n",
       "    <tr>\n",
       "      <td>...</td>\n",
       "      <td>...</td>\n",
       "      <td>...</td>\n",
       "      <td>...</td>\n",
       "      <td>...</td>\n",
       "    </tr>\n",
       "    <tr>\n",
       "      <td>2221</td>\n",
       "      <td>10457.30</td>\n",
       "      <td>10501.10</td>\n",
       "      <td>10448.25</td>\n",
       "      <td>143119167</td>\n",
       "    </tr>\n",
       "    <tr>\n",
       "      <td>2222</td>\n",
       "      <td>10512.30</td>\n",
       "      <td>10545.45</td>\n",
       "      <td>10477.95</td>\n",
       "      <td>160417384</td>\n",
       "    </tr>\n",
       "    <tr>\n",
       "      <td>2223</td>\n",
       "      <td>10531.05</td>\n",
       "      <td>10552.40</td>\n",
       "      <td>10469.25</td>\n",
       "      <td>170307122</td>\n",
       "    </tr>\n",
       "    <tr>\n",
       "      <td>2224</td>\n",
       "      <td>10498.20</td>\n",
       "      <td>10534.55</td>\n",
       "      <td>10460.45</td>\n",
       "      <td>281309989</td>\n",
       "    </tr>\n",
       "    <tr>\n",
       "      <td>2225</td>\n",
       "      <td>10492.35</td>\n",
       "      <td>10538.70</td>\n",
       "      <td>10488.65</td>\n",
       "      <td>156736221</td>\n",
       "    </tr>\n",
       "  </tbody>\n",
       "</table>\n",
       "<p>2226 rows × 4 columns</p>\n",
       "</div>"
      ],
      "text/plain": [
       "          Open      High       Low  Shares Traded\n",
       "0      2963.30   3039.25   2963.30      226681072\n",
       "1      3034.60   3079.85   3021.80      318672508\n",
       "2      3058.75   3131.95   3056.45      311929372\n",
       "3      3121.50   3141.80   3056.10      340452916\n",
       "4      3112.80   3147.20   2888.20      686898999\n",
       "...        ...       ...       ...            ...\n",
       "2221  10457.30  10501.10  10448.25      143119167\n",
       "2222  10512.30  10545.45  10477.95      160417384\n",
       "2223  10531.05  10552.40  10469.25      170307122\n",
       "2224  10498.20  10534.55  10460.45      281309989\n",
       "2225  10492.35  10538.70  10488.65      156736221\n",
       "\n",
       "[2226 rows x 4 columns]"
      ]
     },
     "execution_count": 12,
     "metadata": {},
     "output_type": "execute_result"
    }
   ],
   "source": [
    "x_train = train_df.drop(['Date','Year','Close','Turnover (Rs. Cr)'],axis=1)\n",
    "y_train = train_df['Close']\n",
    "x_train"
   ]
  },
  {
   "cell_type": "code",
   "execution_count": 13,
   "metadata": {},
   "outputs": [
    {
     "data": {
      "text/plain": [
       "0        3033.45\n",
       "1        3046.75\n",
       "2        3121.45\n",
       "3        3112.80\n",
       "4        2920.40\n",
       "          ...   \n",
       "2221    10493.00\n",
       "2222    10531.50\n",
       "2223    10490.75\n",
       "2224    10477.90\n",
       "2225    10530.70\n",
       "Name: Close, Length: 2226, dtype: float64"
      ]
     },
     "execution_count": 13,
     "metadata": {},
     "output_type": "execute_result"
    }
   ],
   "source": [
    "y_train"
   ]
  },
  {
   "cell_type": "markdown",
   "metadata": {},
   "source": [
    "TRAINING MODEL USING **RIDGE REGRESSION**"
   ]
  },
  {
   "cell_type": "code",
   "execution_count": 14,
   "metadata": {},
   "outputs": [
    {
     "data": {
      "text/plain": [
       "array([-5.75249022e-01,  9.22610462e-01,  6.53069191e-01, -2.66279068e-08])"
      ]
     },
     "execution_count": 14,
     "metadata": {},
     "output_type": "execute_result"
    }
   ],
   "source": [
    "from sklearn import linear_model\n",
    "reg = linear_model.Ridge(alpha=.5)\n",
    "reg.fit(x_train,y_train)\n",
    "reg.coef_\n",
    "\n"
   ]
  },
  {
   "cell_type": "code",
   "execution_count": 15,
   "metadata": {},
   "outputs": [
    {
     "data": {
      "text/plain": [
       "-6.404261749787111"
      ]
     },
     "execution_count": 15,
     "metadata": {},
     "output_type": "execute_result"
    }
   ],
   "source": [
    "reg.intercept_\n"
   ]
  },
  {
   "cell_type": "markdown",
   "metadata": {},
   "source": [
    "## PREPARING THE  DATASET"
   ]
  },
  {
   "cell_type": "code",
   "execution_count": 16,
   "metadata": {},
   "outputs": [],
   "source": [
    "x_test = test_df.drop(['Date','Year','Close','Turnover (Rs. Cr)'],axis=1)\n",
    "y_test = test_df[['Date','Close']]"
   ]
  },
  {
   "cell_type": "markdown",
   "metadata": {},
   "source": [
    "PREDICTING THE CLOSING VALUES USING TEST DATASET"
   ]
  },
  {
   "cell_type": "code",
   "execution_count": 17,
   "metadata": {},
   "outputs": [
    {
     "data": {
      "text/html": [
       "<div>\n",
       "<style scoped>\n",
       "    .dataframe tbody tr th:only-of-type {\n",
       "        vertical-align: middle;\n",
       "    }\n",
       "\n",
       "    .dataframe tbody tr th {\n",
       "        vertical-align: top;\n",
       "    }\n",
       "\n",
       "    .dataframe thead th {\n",
       "        text-align: right;\n",
       "    }\n",
       "</style>\n",
       "<table border=\"1\" class=\"dataframe\">\n",
       "  <thead>\n",
       "    <tr style=\"text-align: right;\">\n",
       "      <th></th>\n",
       "      <th>Close</th>\n",
       "      <th>Year</th>\n",
       "    </tr>\n",
       "    <tr>\n",
       "      <th>Date</th>\n",
       "      <th></th>\n",
       "      <th></th>\n",
       "    </tr>\n",
       "  </thead>\n",
       "  <tbody>\n",
       "    <tr>\n",
       "      <td>2018-01-01</td>\n",
       "      <td>10460.999447</td>\n",
       "      <td>2018</td>\n",
       "    </tr>\n",
       "    <tr>\n",
       "      <td>2018-01-02</td>\n",
       "      <td>10440.123357</td>\n",
       "      <td>2018</td>\n",
       "    </tr>\n",
       "    <tr>\n",
       "      <td>2018-01-03</td>\n",
       "      <td>10460.816845</td>\n",
       "      <td>2018</td>\n",
       "    </tr>\n",
       "    <tr>\n",
       "      <td>2018-01-04</td>\n",
       "      <td>10484.676842</td>\n",
       "      <td>2018</td>\n",
       "    </tr>\n",
       "    <tr>\n",
       "      <td>2018-01-05</td>\n",
       "      <td>10547.561029</td>\n",
       "      <td>2018</td>\n",
       "    </tr>\n",
       "    <tr>\n",
       "      <td>...</td>\n",
       "      <td>...</td>\n",
       "      <td>...</td>\n",
       "    </tr>\n",
       "    <tr>\n",
       "      <td>2018-12-21</td>\n",
       "      <td>10815.821773</td>\n",
       "      <td>2018</td>\n",
       "    </tr>\n",
       "    <tr>\n",
       "      <td>2018-12-24</td>\n",
       "      <td>10688.321247</td>\n",
       "      <td>2018</td>\n",
       "    </tr>\n",
       "    <tr>\n",
       "      <td>2018-12-26</td>\n",
       "      <td>10663.868249</td>\n",
       "      <td>2018</td>\n",
       "    </tr>\n",
       "    <tr>\n",
       "      <td>2018-12-27</td>\n",
       "      <td>10783.766877</td>\n",
       "      <td>2018</td>\n",
       "    </tr>\n",
       "    <tr>\n",
       "      <td>2018-12-28</td>\n",
       "      <td>10877.012398</td>\n",
       "      <td>2018</td>\n",
       "    </tr>\n",
       "  </tbody>\n",
       "</table>\n",
       "<p>245 rows × 2 columns</p>\n",
       "</div>"
      ],
      "text/plain": [
       "                   Close  Year\n",
       "Date                          \n",
       "2018-01-01  10460.999447  2018\n",
       "2018-01-02  10440.123357  2018\n",
       "2018-01-03  10460.816845  2018\n",
       "2018-01-04  10484.676842  2018\n",
       "2018-01-05  10547.561029  2018\n",
       "...                  ...   ...\n",
       "2018-12-21  10815.821773  2018\n",
       "2018-12-24  10688.321247  2018\n",
       "2018-12-26  10663.868249  2018\n",
       "2018-12-27  10783.766877  2018\n",
       "2018-12-28  10877.012398  2018\n",
       "\n",
       "[245 rows x 2 columns]"
      ]
     },
     "execution_count": 17,
     "metadata": {},
     "output_type": "execute_result"
    }
   ],
   "source": [
    "pred = reg.predict(x_test)\n",
    "sub_df = pd.DataFrame(pred,index=test_df['Date'],columns=['Close'])\n",
    "sub_df['Year'] = sub_df.index.year\n",
    "sub_df"
   ]
  },
  {
   "cell_type": "code",
   "execution_count": 18,
   "metadata": {},
   "outputs": [
    {
     "data": {
      "text/plain": [
       "Date\n",
       "2018-01-01    10460.999447\n",
       "2018-01-02    10440.123357\n",
       "2018-01-03    10460.816845\n",
       "2018-01-04    10484.676842\n",
       "2018-01-05    10547.561029\n",
       "                  ...     \n",
       "2018-12-21    10815.821773\n",
       "2018-12-24    10688.321247\n",
       "2018-12-26    10663.868249\n",
       "2018-12-27    10783.766877\n",
       "2018-12-28    10877.012398\n",
       "Name: Close, Length: 245, dtype: float64"
      ]
     },
     "execution_count": 18,
     "metadata": {},
     "output_type": "execute_result"
    }
   ],
   "source": [
    "x1 = sub_df[sub_df['Year']==2018]['Close']\n",
    "x1  #predicted"
   ]
  },
  {
   "cell_type": "code",
   "execution_count": 19,
   "metadata": {},
   "outputs": [
    {
     "name": "stderr",
     "output_type": "stream",
     "text": [
      "C:\\Users\\hp\\Anaconda3\\lib\\site-packages\\ipykernel_launcher.py:1: SettingWithCopyWarning: \n",
      "A value is trying to be set on a copy of a slice from a DataFrame.\n",
      "Try using .loc[row_indexer,col_indexer] = value instead\n",
      "\n",
      "See the caveats in the documentation: http://pandas.pydata.org/pandas-docs/stable/user_guide/indexing.html#returning-a-view-versus-a-copy\n",
      "  \"\"\"Entry point for launching an IPython kernel.\n"
     ]
    },
    {
     "data": {
      "text/html": [
       "<div>\n",
       "<style scoped>\n",
       "    .dataframe tbody tr th:only-of-type {\n",
       "        vertical-align: middle;\n",
       "    }\n",
       "\n",
       "    .dataframe tbody tr th {\n",
       "        vertical-align: top;\n",
       "    }\n",
       "\n",
       "    .dataframe thead th {\n",
       "        text-align: right;\n",
       "    }\n",
       "</style>\n",
       "<table border=\"1\" class=\"dataframe\">\n",
       "  <thead>\n",
       "    <tr style=\"text-align: right;\">\n",
       "      <th></th>\n",
       "      <th>Date</th>\n",
       "      <th>Close</th>\n",
       "      <th>Year</th>\n",
       "    </tr>\n",
       "  </thead>\n",
       "  <tbody>\n",
       "    <tr>\n",
       "      <td>2226</td>\n",
       "      <td>2018-01-01</td>\n",
       "      <td>10435.55</td>\n",
       "      <td>2018</td>\n",
       "    </tr>\n",
       "    <tr>\n",
       "      <td>2227</td>\n",
       "      <td>2018-01-02</td>\n",
       "      <td>10442.20</td>\n",
       "      <td>2018</td>\n",
       "    </tr>\n",
       "    <tr>\n",
       "      <td>2228</td>\n",
       "      <td>2018-01-03</td>\n",
       "      <td>10443.20</td>\n",
       "      <td>2018</td>\n",
       "    </tr>\n",
       "    <tr>\n",
       "      <td>2229</td>\n",
       "      <td>2018-01-04</td>\n",
       "      <td>10504.80</td>\n",
       "      <td>2018</td>\n",
       "    </tr>\n",
       "    <tr>\n",
       "      <td>2230</td>\n",
       "      <td>2018-01-05</td>\n",
       "      <td>10558.85</td>\n",
       "      <td>2018</td>\n",
       "    </tr>\n",
       "    <tr>\n",
       "      <td>...</td>\n",
       "      <td>...</td>\n",
       "      <td>...</td>\n",
       "      <td>...</td>\n",
       "    </tr>\n",
       "    <tr>\n",
       "      <td>2466</td>\n",
       "      <td>2018-12-21</td>\n",
       "      <td>10754.00</td>\n",
       "      <td>2018</td>\n",
       "    </tr>\n",
       "    <tr>\n",
       "      <td>2467</td>\n",
       "      <td>2018-12-24</td>\n",
       "      <td>10663.50</td>\n",
       "      <td>2018</td>\n",
       "    </tr>\n",
       "    <tr>\n",
       "      <td>2468</td>\n",
       "      <td>2018-12-26</td>\n",
       "      <td>10729.85</td>\n",
       "      <td>2018</td>\n",
       "    </tr>\n",
       "    <tr>\n",
       "      <td>2469</td>\n",
       "      <td>2018-12-27</td>\n",
       "      <td>10779.80</td>\n",
       "      <td>2018</td>\n",
       "    </tr>\n",
       "    <tr>\n",
       "      <td>2470</td>\n",
       "      <td>2018-12-28</td>\n",
       "      <td>10859.90</td>\n",
       "      <td>2018</td>\n",
       "    </tr>\n",
       "  </tbody>\n",
       "</table>\n",
       "<p>245 rows × 3 columns</p>\n",
       "</div>"
      ],
      "text/plain": [
       "           Date     Close  Year\n",
       "2226 2018-01-01  10435.55  2018\n",
       "2227 2018-01-02  10442.20  2018\n",
       "2228 2018-01-03  10443.20  2018\n",
       "2229 2018-01-04  10504.80  2018\n",
       "2230 2018-01-05  10558.85  2018\n",
       "...         ...       ...   ...\n",
       "2466 2018-12-21  10754.00  2018\n",
       "2467 2018-12-24  10663.50  2018\n",
       "2468 2018-12-26  10729.85  2018\n",
       "2469 2018-12-27  10779.80  2018\n",
       "2470 2018-12-28  10859.90  2018\n",
       "\n",
       "[245 rows x 3 columns]"
      ]
     },
     "execution_count": 19,
     "metadata": {},
     "output_type": "execute_result"
    }
   ],
   "source": [
    "y_test['Year'] = y_test['Date'].apply(lambda x:x.year)\n",
    "y_test"
   ]
  },
  {
   "cell_type": "code",
   "execution_count": 20,
   "metadata": {},
   "outputs": [
    {
     "data": {
      "text/plain": [
       "Date\n",
       "2018-01-01    10435.55\n",
       "2018-01-02    10442.20\n",
       "2018-01-03    10443.20\n",
       "2018-01-04    10504.80\n",
       "2018-01-05    10558.85\n",
       "                ...   \n",
       "2018-12-21    10754.00\n",
       "2018-12-24    10663.50\n",
       "2018-12-26    10729.85\n",
       "2018-12-27    10779.80\n",
       "2018-12-28    10859.90\n",
       "Name: Close, Length: 245, dtype: float64"
      ]
     },
     "execution_count": 20,
     "metadata": {},
     "output_type": "execute_result"
    }
   ],
   "source": [
    "y_test.set_index('Date',inplace=True)\n",
    "x2=y_test[y_test['Year']==2018]['Close']\n",
    "x2"
   ]
  },
  {
   "cell_type": "code",
   "execution_count": 21,
   "metadata": {},
   "outputs": [
    {
     "data": {
      "text/plain": [
       "Date\n",
       "2018-01-01    10460.999447\n",
       "2018-01-02    10440.123357\n",
       "2018-01-03    10460.816845\n",
       "2018-01-04    10484.676842\n",
       "2018-01-05    10547.561029\n",
       "                  ...     \n",
       "2018-12-21    10815.821773\n",
       "2018-12-24    10688.321247\n",
       "2018-12-26    10663.868249\n",
       "2018-12-27    10783.766877\n",
       "2018-12-28    10877.012398\n",
       "Name: Close, Length: 245, dtype: float64"
      ]
     },
     "execution_count": 21,
     "metadata": {},
     "output_type": "execute_result"
    }
   ],
   "source": [
    "x1\n"
   ]
  },
  {
   "cell_type": "markdown",
   "metadata": {},
   "source": [
    "PLOTTING REAL VALUES(X2) AND PREDICTED VALUES (X1) "
   ]
  },
  {
   "cell_type": "code",
   "execution_count": 22,
   "metadata": {},
   "outputs": [
    {
     "data": {
      "text/plain": [
       "<matplotlib.legend.Legend at 0x1dff2eaa3c8>"
      ]
     },
     "execution_count": 22,
     "metadata": {},
     "output_type": "execute_result"
    },
    {
     "data": {
      "image/png": "[encoded data removed]",
      "text/plain": [
       "<Figure size 432x288 with 1 Axes>"
      ]
     },
     "metadata": {
      "needs_background": "light"
     },
     "output_type": "display_data"
    }
   ],
   "source": [
    "x1.plot(kind='line')\n",
    "ax = plt.gca()\n",
    "ax.plot(x2,'r-')\n",
    "ax.legend(['true','predicted']) #x1=predicted x2=true;"
   ]
  },
  {
   "cell_type": "code",
   "execution_count": 23,
   "metadata": {},
   "outputs": [
    {
     "name": "stdout",
     "output_type": "stream",
     "text": [
      "720.9475189418389\n"
     ]
    }
   ],
   "source": [
    "from sklearn.metrics import mean_squared_error\n",
    "print(mean_squared_error(x2, x1))"
   ]
  },
  {
   "cell_type": "markdown",
   "metadata": {},
   "source": [
    "From the figure and the obtained MSE we can see that the model performs well in predicting the closing prices.\n",
    "The model alse performs well when volume of shares traded is not considered as a feature."
   ]
  },
  {
   "cell_type": "code",
   "execution_count": null,
   "metadata": {},
   "outputs": [],
   "source": []
  }
 ],
 "metadata": {
  "kernelspec": {
   "display_name": "Python 3",
   "language": "python",
   "name": "python3"
  },
  "language_info": {
   "codemirror_mode": {
    "name": "ipython",
    "version": 3
   },
   "file_extension": ".py",
   "mimetype": "text/x-python",
   "name": "python",
   "nbconvert_exporter": "python",
   "pygments_lexer": "ipython3",
   "version": "3.7.4"
  }
 },
 "nbformat": 4,
 "nbformat_minor": 4
}
